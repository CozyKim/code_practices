{
 "cells": [
  {
   "cell_type": "markdown",
   "metadata": {},
   "source": [
    "### [k진수에서 소수 개수 구하기](https://programmers.co.kr/learn/courses/30/lessons/92335)\n"
   ]
  },
  {
   "cell_type": "code",
   "execution_count": null,
   "metadata": {},
   "outputs": [],
   "source": [
    "def solution(n, k):\n",
    "    answer = 0\n",
    "    def ten_to_n(ten,n):\n",
    "        tmp = \"\"\n",
    "        while ten > 0:\n",
    "            ten, d = divmod(ten,n)\n",
    "            tmp+=str(d)\n",
    "        return tmp[::-1]\n",
    "\n",
    "    def isprime(n):\n",
    "        for i in range(2,int(n**0.5)+1):\n",
    "            if n % i == 0:\n",
    "                return False\n",
    "        return True\n",
    "    n_to_k = str(ten_to_n(n, k))\n",
    "    n_to_k = n_to_k.split(\"0\")\n",
    "    for i in n_to_k:\n",
    "        if not i:\n",
    "            continue\n",
    "        if int(i) >1 and isprime(int(i)):\n",
    "            answer +=1\n",
    "    return answer"
   ]
  },
  {
   "cell_type": "markdown",
   "metadata": {},
   "source": [
    "### [주차 요금 계산](https://programmers.co.kr/learn/courses/30/lessons/92341)\n"
   ]
  },
  {
   "cell_type": "code",
   "execution_count": 82,
   "metadata": {},
   "outputs": [],
   "source": [
    "import math\n",
    "def solution(fees, records):\n",
    "    answer = []\n",
    "    def change_time(time:str):\n",
    "        time = time.split(\":\")\n",
    "        return int(time[0])*60+int(time[1])\n",
    "    \n",
    "    cars ={}\n",
    "    for record in records:\n",
    "        time, car_num, io = record.split()\n",
    "        if car_num not in cars:\n",
    "            cars[car_num] = {\"IN\":[], \"OUT\":[]}\n",
    "        cars[car_num][io].append(change_time(time))\n",
    "    \n",
    "    for car in sorted(cars.keys()):\n",
    "        if len(cars[car][\"IN\"]) > len(cars[car][\"OUT\"]):\n",
    "            cars[car][\"OUT\"].append(change_time(\"23:59\"))\n",
    "        fee = 0\n",
    "        time = 0\n",
    "        for i in range(len(cars[car][\"IN\"])):\n",
    "            time += cars[car][\"OUT\"][i]-cars[car][\"IN\"][i]\n",
    "        time-=fees[0]\n",
    "        if time <=0:\n",
    "            fee+= fees[1]\n",
    "        else:\n",
    "            fee+=fees[1]+ math.ceil(time / fees[2])*fees[3]\n",
    "        answer.append(fee)\n",
    "    # print(cars)\n",
    "    \n",
    "    return answer"
   ]
  },
  {
   "cell_type": "code",
   "execution_count": 83,
   "metadata": {},
   "outputs": [
    {
     "name": "stdout",
     "output_type": "stream",
     "text": [
      "{'5961': {'IN': [334, 1379], 'OUT': [479, 1380]}, '0000': {'IN': [360, 1139], 'OUT': [394, 1439]}, '0148': {'IN': [479], 'OUT': [1149]}}\n"
     ]
    },
    {
     "data": {
      "text/plain": [
       "[14600, 34400, 5000]"
      ]
     },
     "execution_count": 83,
     "metadata": {},
     "output_type": "execute_result"
    }
   ],
   "source": [
    "solution([180, 5000, 10, 600],[\"05:34 5961 IN\", \"06:00 0000 IN\", \"06:34 0000 OUT\", \"07:59 5961 OUT\", \"07:59 0148 IN\", \"18:59 0000 IN\", \"19:09 0148 OUT\", \"22:59 5961 IN\", \"23:00 5961 OUT\"])"
   ]
  },
  {
   "cell_type": "markdown",
   "metadata": {},
   "source": [
    "### [양궁대회](https://programmers.co.kr/learn/courses/30/lessons/92342)"
   ]
  },
  {
   "cell_type": "code",
   "execution_count": 125,
   "metadata": {},
   "outputs": [],
   "source": [
    "from collections import defaultdict\n",
    "\n",
    "\n",
    "def solution(n, info):\n",
    "    answer = defaultdict(list)\n",
    "    answer[-1].append([-1])\n",
    "\n",
    "    def compare_score(a_arrrows, r_arrows):\n",
    "        r_score = a_score = 0\n",
    "        for idx, (a, r) in enumerate(zip(a_arrrows, r_arrows)):\n",
    "            if a < r:\n",
    "                r_score += 10 - idx\n",
    "            else:\n",
    "                if a == 0:\n",
    "                    continue\n",
    "                a_score += 10 - idx\n",
    "\n",
    "        return (r_score - a_score, r_arrows) if r_score > a_score else (-1, [-1])\n",
    "\n",
    "    def dfs(left_arrow: int, info_idx: int, r_arrow: list):\n",
    "        if left_arrow <= 0:\n",
    "            if len(r_arrow) < len(info):\n",
    "                for _ in range(len(info) - len(r_arrow)):\n",
    "                    r_arrow.append(0)\n",
    "            score, r_list = compare_score(info, r_arrow)  # score, r_list\n",
    "            if score == -1:\n",
    "                return\n",
    "            answer[score].append(r_list)\n",
    "            return\n",
    "        elif info_idx == 11:\n",
    "            r_arrow[-1]+=left_arrow\n",
    "            score, r_list = compare_score(info, r_arrow)  # score, r_list\n",
    "            if score == -1:\n",
    "                return\n",
    "            answer[score].append(r_list)\n",
    "            return\n",
    "        # 1점차 승리\n",
    "        if left_arrow > info[info_idx]:\n",
    "            dfs(\n",
    "                left_arrow - (info[info_idx] + 1),\n",
    "                info_idx + 1,\n",
    "                r_arrow + [info[info_idx] + 1],\n",
    "            )\n",
    "        # 안 쏘고 그냥 넘어가기\n",
    "        dfs(left_arrow, info_idx + 1, r_arrow + [0])\n",
    "\n",
    "    dfs(n, 0, [])\n",
    "    print(answer[max(answer.keys())])\n",
    "    return sorted(answer[max(answer.keys())], key=lambda x: x[::-1], reverse= True)[0]"
   ]
  },
  {
   "cell_type": "markdown",
   "metadata": {},
   "source": [
    "### [양과 늑대](https://programmers.co.kr/learn/courses/30/lessons/92343)"
   ]
  },
  {
   "cell_type": "code",
   "execution_count": 137,
   "metadata": {},
   "outputs": [],
   "source": [
    "from collections import defaultdict\n",
    "\n",
    "\n",
    "def solution(info, edges):\n",
    "    answer = 0\n",
    "\n",
    "    graph = defaultdict(list)\n",
    "    for a, b in edges:\n",
    "        graph[a].append(b)\n",
    "    max_cnt = -1\n",
    "\n",
    "    def dfs(sheep: int, wolf: int, node: int, basket: set):\n",
    "        nonlocal max_cnt\n",
    "        if sheep == wolf:\n",
    "            max_cnt = max(max_cnt, sheep)\n",
    "            return\n",
    "        basket |= set(graph[node])\n",
    "        for n in basket:\n",
    "            if info[n]:\n",
    "                dfs(sheep, wolf + 1, n, basket - set([n]))\n",
    "            else:\n",
    "                dfs(sheep + 1, wolf, n, basket - set([n]))\n",
    "        max_cnt = max(max_cnt, sheep)\n",
    "\n",
    "    dfs(1, 0, 0, set())\n",
    "\n",
    "    print(max_cnt)\n",
    "    return answer"
   ]
  },
  {
   "cell_type": "markdown",
   "metadata": {},
   "source": [
    "### [파괴되지 않은 건물](https://programmers.co.kr/learn/courses/30/lessons/92344)\n",
    "\n",
    "효율성 체크 통과하지 못했다..\n",
    "\n",
    "풀이를 보니 <u>**누적합**</u> 을 사용하면 된다고 한다."
   ]
  },
  {
   "cell_type": "code",
   "execution_count": 169,
   "metadata": {},
   "outputs": [],
   "source": [
    "\n",
    "def solution(board, skill):\n",
    "    answer = 0\n",
    "    acc_board =[[0 for _ in range(len(board[0])+1)] for _ in range(len(board)+1)]\n",
    "    for att_hl, r1, c1, r2, c2, degree in skill:\n",
    "        if att_hl == 1:\n",
    "            degree = -degree \n",
    "        acc_board[r1][c1] += degree\n",
    "        acc_board[r2+1][c1] -= degree\n",
    "        acc_board[r1][c2+1] -= degree\n",
    "        acc_board[r2+1][c2+1] += degree\n",
    "    \n",
    "    def do_acc(ac_board):\n",
    "        for i in range(len(ac_board)):\n",
    "            for j in range(len(ac_board[0])):\n",
    "                if j == 0:\n",
    "                    continue\n",
    "                ac_board[i][j] += ac_board[i][j-1]\n",
    "        for i in range(len(ac_board[0])):\n",
    "            for j in range(len(ac_board)):\n",
    "                if j == 0:\n",
    "                    continue\n",
    "                ac_board[j][i] += ac_board[j-1][i]\n",
    "        return ac_board\n",
    "    \n",
    "    acc_board = do_acc(acc_board)\n",
    "\n",
    "    for i in range(len(board)):\n",
    "        for j in range(len(board[0])):\n",
    "            board[i][j] += acc_board[i][j]\n",
    "            if board[i][j] >0:\n",
    "                answer +=1\n",
    "\n",
    "    return answer"
   ]
  },
  {
   "cell_type": "code",
   "execution_count": 170,
   "metadata": {},
   "outputs": [
    {
     "data": {
      "text/plain": [
       "10"
      ]
     },
     "execution_count": 170,
     "metadata": {},
     "output_type": "execute_result"
    }
   ],
   "source": [
    "solution([[5,5,5,5,5],[5,5,5,5,5],[5,5,5,5,5],[5,5,5,5,5]]\t,[[1,0,0,3,4,4],[1,2,0,2,3,2],[2,1,0,3,1,2],[1,0,1,3,3,1]]\t)"
   ]
  },
  {
   "cell_type": "code",
   "execution_count": null,
   "metadata": {},
   "outputs": [],
   "source": []
  }
 ],
 "metadata": {
  "interpreter": {
   "hash": "b0fa6594d8f4cbf19f97940f81e996739fb7646882a419484c72d19e05852a7e"
  },
  "kernelspec": {
   "display_name": "Python 3.9.10 64-bit",
   "language": "python",
   "name": "python3"
  },
  "language_info": {
   "codemirror_mode": {
    "name": "ipython",
    "version": 3
   },
   "file_extension": ".py",
   "mimetype": "text/x-python",
   "name": "python",
   "nbconvert_exporter": "python",
   "pygments_lexer": "ipython3",
   "version": "3.9.10"
  },
  "orig_nbformat": 4
 },
 "nbformat": 4,
 "nbformat_minor": 2
}
